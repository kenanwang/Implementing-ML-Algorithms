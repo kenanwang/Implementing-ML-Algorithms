{
 "cells": [
  {
   "cell_type": "markdown",
   "metadata": {},
   "source": [
    "# Naive-Bayes Implementation"
   ]
  },
  {
   "cell_type": "markdown",
   "metadata": {},
   "source": [
    "This is an implementation of a Gaussian Naive-Bayes following this guide, using sample data:\n",
    "    https://machinelearningmastery.com/classification-as-conditional-probability-and-the-naive-bayes-algorithm/"
   ]
  },
  {
   "cell_type": "markdown",
   "metadata": {},
   "source": [
    "## 0. Import Libraries"
   ]
  },
  {
   "cell_type": "code",
   "execution_count": 127,
   "metadata": {},
   "outputs": [],
   "source": [
    "import numpy as np\n",
    "from scipy import stats\n",
    "from sklearn.datasets.samples_generator import make_blobs\n",
    "from collections import defaultdict\n",
    "from sklearn.model_selection import train_test_split\n",
    "from sklearn.metrics import accuracy_score"
   ]
  },
  {
   "cell_type": "code",
   "execution_count": 232,
   "metadata": {},
   "outputs": [],
   "source": [
    "# for later comparison to scikit-learn libraries\n",
    "from sklearn.naive_bayes import GaussianNB"
   ]
  },
  {
   "cell_type": "markdown",
   "metadata": {},
   "source": [
    "## I. Implement Naive-Bayes on small 2-d sample set"
   ]
  },
  {
   "cell_type": "code",
   "execution_count": 39,
   "metadata": {},
   "outputs": [
    {
     "name": "stdout",
     "output_type": "stream",
     "text": [
      "(100, 2) (100,)\n",
      "[[-0.79415228  2.10495117]\n",
      " [-9.15155186 -4.81286449]\n",
      " [-3.10367371  3.90202401]\n",
      " [-1.42946517  5.16850105]\n",
      " [-7.4693868  -4.20198333]]\n",
      "[0 1 0 0 1]\n"
     ]
    }
   ],
   "source": [
    "# Generate small 2-d sample classification dataset\n",
    "X, y = make_blobs(n_samples=100, centers=2, n_features=2, random_state=1)\n",
    "# Check\n",
    "print(X.shape, y.shape)\n",
    "print(X[:5])\n",
    "print(y[:5])"
   ]
  },
  {
   "cell_type": "code",
   "execution_count": 32,
   "metadata": {},
   "outputs": [],
   "source": [
    "# fit probability distribution to univariate data sample\n",
    "def fit_distribution(data):\n",
    "    # estimate prameters\n",
    "    mu = np.mean(data)\n",
    "    sigma = np.std(data)\n",
    "    print(mu, sigma)\n",
    "    # fit distribution\n",
    "    dist = stats.norm(mu, sigma)\n",
    "    return dist"
   ]
  },
  {
   "cell_type": "code",
   "execution_count": 4,
   "metadata": {},
   "outputs": [
    {
     "name": "stdout",
     "output_type": "stream",
     "text": [
      "(50, 2) (50, 2)\n"
     ]
    }
   ],
   "source": [
    "# sort data into classes\n",
    "X_y0 = X[y == 0]\n",
    "X_y1 = X[y == 1]\n",
    "print(X_y0.shape, X_y1.shape)"
   ]
  },
  {
   "cell_type": "code",
   "execution_count": 44,
   "metadata": {},
   "outputs": [
    {
     "name": "stdout",
     "output_type": "stream",
     "text": [
      "50\n"
     ]
    }
   ],
   "source": [
    "print(len(y[y==1]))"
   ]
  },
  {
   "cell_type": "code",
   "execution_count": 5,
   "metadata": {},
   "outputs": [
    {
     "name": "stdout",
     "output_type": "stream",
     "text": [
      "0.5 0.5\n"
     ]
    }
   ],
   "source": [
    "# Calculate priors\n",
    "priory_y0 = len(X_y0)/len(X)\n",
    "priory_y1 = len(X_y1)/len(X)\n",
    "print(priory_y0, priory_y1)"
   ]
  },
  {
   "cell_type": "code",
   "execution_count": 7,
   "metadata": {},
   "outputs": [
    {
     "name": "stdout",
     "output_type": "stream",
     "text": [
      "[[-0.79415228  2.10495117]\n",
      " [-3.10367371  3.90202401]\n",
      " [-1.42946517  5.16850105]\n",
      " [-2.76017908  5.55121358]\n",
      " [-1.17104176  4.33091816]]\n",
      "[-0.79415228 -3.10367371 -1.42946517 -2.76017908 -1.17104176]\n",
      "[2.10495117 3.90202401 5.16850105 5.55121358 4.33091816]\n"
     ]
    }
   ],
   "source": [
    "print(X_y0[:5])\n",
    "print(X_y0[:5, 0])\n",
    "print(X_y0[:5, 1])"
   ]
  },
  {
   "cell_type": "code",
   "execution_count": 33,
   "metadata": {},
   "outputs": [
    {
     "name": "stdout",
     "output_type": "stream",
     "text": [
      "-1.5632888906409914 0.787444265443213\n",
      "4.426680361487157 0.958296071258367\n",
      "-9.681177100524485 0.8943078901048118\n",
      "-3.9713794295185845 0.9308177595208521\n"
     ]
    }
   ],
   "source": [
    "# Probability distribution functions for each X term for y==0\n",
    "X1_y0 = fit_distribution(X_y0[:, 0])\n",
    "X2_y0 = fit_distribution(X_y0[:, 1])\n",
    "\n",
    "# Probability distribution functions for each X term for y==1\n",
    "X1_y1 = fit_distribution(X_y1[:, 0])\n",
    "X2_y1 = fit_distribution(X_y1[:, 1])"
   ]
  },
  {
   "cell_type": "code",
   "execution_count": 120,
   "metadata": {},
   "outputs": [],
   "source": [
    "def probability(X, prior, dist1, dist2):\n",
    "    return prior * dist1.pdf(X[0]) * dist2.pdf(X[1])"
   ]
  },
  {
   "cell_type": "code",
   "execution_count": 23,
   "metadata": {},
   "outputs": [],
   "source": [
    "# Pick one sample to classify\n",
    "Xsample, ysample = X[0], y[0]"
   ]
  },
  {
   "cell_type": "code",
   "execution_count": 121,
   "metadata": {
    "scrolled": true
   },
   "outputs": [
    {
     "name": "stdout",
     "output_type": "stream",
     "text": [
      "P(y=0) | X = [-0.79415228  2.10495117]) = 0.348\n",
      "P(y=1) | X = [-0.79415228  2.10495117]) = 0.000\n",
      "Truth: y = 0\n"
     ]
    }
   ],
   "source": [
    "# Classify our one sample\n",
    "py0 = probability(Xsample, priory_y0, X1_y0, X2_y0)\n",
    "py1 = probability(Xsample, priory_y1, X1_y1, X2_y1)\n",
    "print(f'P(y=0) | X = {Xsample}) = {py0*100:.3f}')\n",
    "print(f'P(y=1) | X = {Xsample}) = {py1*100:.3f}')\n",
    "print(f'Truth: y = {ysample}')"
   ]
  },
  {
   "cell_type": "markdown",
   "metadata": {},
   "source": [
    "## II. Implement general function for Gaussian Naive-Bayes"
   ]
  },
  {
   "cell_type": "code",
   "execution_count": 118,
   "metadata": {},
   "outputs": [],
   "source": [
    "def fit_gaussian_nb(X, y):\n",
    "    if len(X) == len(y):\n",
    "        sample_size = len(X)\n",
    "    else:\n",
    "        print('len(X) must equal len(y)')\n",
    "    n = X.shape[1]\n",
    "    m = max(y)+1\n",
    "    # Calculate Priors\n",
    "    priors = [None]*m\n",
    "    for i in range(m):\n",
    "        priors[i] = len(y[y==i])/sample_size\n",
    "    # Calculate conditional probability distribution functions\n",
    "    conditional_pdfs = defaultdict(dict)\n",
    "    for j in range(m):\n",
    "        for i in range(n):\n",
    "            Xi_yj = X[y==j][:,i]\n",
    "            conditional_pdfs[i][j] = stats.norm(np.mean(Xi_yj), np.std(Xi_yj))\n",
    "    return priors, conditional_pdfs"
   ]
  },
  {
   "cell_type": "code",
   "execution_count": 126,
   "metadata": {},
   "outputs": [],
   "source": [
    "def gnb_predictions(X_test, priors, conditional_pdfs):\n",
    "    m = len(priors)\n",
    "    if len(X_test.shape)==1:\n",
    "        sample_size = 1\n",
    "        n = X_test.shape[0]\n",
    "    else:\n",
    "        sample_size = len(X_test)\n",
    "        n = X_test.shape[1]        \n",
    "    log_prob_y_X = np.zeros(shape=(sample_size, m))\n",
    "    for i in range(sample_size):\n",
    "        if sample_size == 1:\n",
    "            sample_i = X_test\n",
    "        else:\n",
    "            sample_i = X_test[i]\n",
    "        for j in range(m):\n",
    "            probs_X_y=[]\n",
    "            for k in range(n):\n",
    "                probs_X_y.append(conditional_pdfs[k][j].pdf(sample_i[k]))\n",
    "            probs_X_y.append(priors[j])\n",
    "            log_prob_y_X[i,j] = sum(np.log(probs_X_y))\n",
    "    predictions = log_prob_y_X.argmax(axis=1)\n",
    "    return predictions, log_prob_y_X"
   ]
  },
  {
   "cell_type": "markdown",
   "metadata": {},
   "source": [
    "## III. Test Gaussian NB functions"
   ]
  },
  {
   "cell_type": "code",
   "execution_count": 125,
   "metadata": {},
   "outputs": [
    {
     "name": "stdout",
     "output_type": "stream",
     "text": [
      "[0] [[ -5.66138661 -73.02986163]]\n"
     ]
    }
   ],
   "source": [
    "# First try sample from Part I\n",
    "ex_priors, ex_conditional_pdfs = fit_gaussian_nb(X, y)\n",
    "ex_predictions, ex_log_probs = gnb_predictions(Xsample, ex_priors, ex_conditional_pdfs)\n",
    "print(ex_predictions, ex_log_probs)"
   ]
  },
  {
   "cell_type": "code",
   "execution_count": 111,
   "metadata": {
    "scrolled": false
   },
   "outputs": [
    {
     "name": "stdout",
     "output_type": "stream",
     "text": [
      "[ -5.66138661 -73.02986163]\n"
     ]
    }
   ],
   "source": [
    "print(np.log([py0, py1]))"
   ]
  },
  {
   "cell_type": "code",
   "execution_count": 128,
   "metadata": {},
   "outputs": [
    {
     "name": "stdout",
     "output_type": "stream",
     "text": [
      "(10000, 3) (10000,)\n",
      "[[10.2860709   3.08445143  1.10950203]\n",
      " [ 9.48094927  3.63848054 -0.81090591]\n",
      " [ 5.36061008 -3.56854951 -7.5313075 ]\n",
      " [ 3.34099263 -3.63460408 -4.96655885]\n",
      " [10.52164696  4.68535779 -0.98655588]]\n",
      "[2 2 0 0 2]\n"
     ]
    }
   ],
   "source": [
    "# Generate larger 3-d sample classification dataset, with 4 centers\n",
    "X, y = make_blobs(n_samples=10000, centers=4, n_features=3, random_state=123)\n",
    "# Check\n",
    "print(X.shape, y.shape)\n",
    "print(X[:5])\n",
    "print(y[:5])"
   ]
  },
  {
   "cell_type": "code",
   "execution_count": 129,
   "metadata": {},
   "outputs": [],
   "source": [
    "# Split training and testing data\n",
    "X_train, X_test, y_train, y_test = train_test_split(X, y, test_size=.2, random_state=111)"
   ]
  },
  {
   "cell_type": "code",
   "execution_count": 130,
   "metadata": {},
   "outputs": [],
   "source": [
    "# Train Gaussian Naive-Bayes Algorithm with training data\n",
    "# Produces priors and conditional probability distribution functions\n",
    "priors, conditional_pdfs = fit_gaussian_nb(X_train, y_train)"
   ]
  },
  {
   "cell_type": "code",
   "execution_count": 131,
   "metadata": {},
   "outputs": [],
   "source": [
    "# Make predictions using Gaussian Naive-Bayes \n",
    "predictions, log_probs = gnb_predictions(X_test, priors, conditional_pdfs)"
   ]
  },
  {
   "cell_type": "code",
   "execution_count": 133,
   "metadata": {},
   "outputs": [
    {
     "data": {
      "text/plain": [
       "1.0"
      ]
     },
     "execution_count": 133,
     "metadata": {},
     "output_type": "execute_result"
    }
   ],
   "source": [
    "# Check accuracy\n",
    "accuracy_score(y_test, predictions)"
   ]
  },
  {
   "cell_type": "markdown",
   "metadata": {},
   "source": [
    "Since the last test was 100% accurate, going to try to add some noise and see how we do"
   ]
  },
  {
   "cell_type": "code",
   "execution_count": 227,
   "metadata": {},
   "outputs": [
    {
     "name": "stdout",
     "output_type": "stream",
     "text": [
      "(100, 4) (100,)\n",
      "[[-0.93028238 -3.13570734 -3.49126414  4.97257839]\n",
      " [ 3.39205793 -2.63791391  8.85884676  4.01828135]\n",
      " [ 0.07490892 -0.61310518 -3.37610846  4.72430188]\n",
      " [-1.35000378 -9.38997878 -1.048982    4.40615378]\n",
      " [ 4.24365571 -5.60347876 -4.04567188  1.83353192]]\n",
      "[2 1 2 3 0]\n"
     ]
    }
   ],
   "source": [
    "# 4-d sample classification dataset, with 5 centers\n",
    "X, y = make_blobs(n_samples=80, centers=5, n_features=4, random_state=123)\n",
    "# Add a noisey 4-d sample set with 5 centers\n",
    "X_noise, y_noise = make_blobs(n_samples=20, centers=5, n_features=4, random_state=1)\n",
    "X = np.concatenate((X, X_noise))\n",
    "y = np.concatenate((y, y_noise))\n",
    "# Check\n",
    "print(X.shape, y.shape)\n",
    "print(X[:5])\n",
    "print(y[:5])"
   ]
  },
  {
   "cell_type": "code",
   "execution_count": 228,
   "metadata": {},
   "outputs": [],
   "source": [
    "# Split training and testing data\n",
    "X_train, X_test, y_train, y_test = train_test_split(X, y, test_size=.2, random_state=111)"
   ]
  },
  {
   "cell_type": "code",
   "execution_count": 229,
   "metadata": {},
   "outputs": [],
   "source": [
    "# Train Gaussian Naive-Bayes Algorithm with training data\n",
    "# Produces priors and conditional probability distribution functions\n",
    "priors, conditional_pdfs = fit_gaussian_nb(X_train, y_train)"
   ]
  },
  {
   "cell_type": "code",
   "execution_count": 230,
   "metadata": {},
   "outputs": [],
   "source": [
    "# Make predictions using Gaussian Naive-Bayes \n",
    "predictions, log_probs = gnb_predictions(X_test, priors, conditional_pdfs)"
   ]
  },
  {
   "cell_type": "code",
   "execution_count": 231,
   "metadata": {},
   "outputs": [
    {
     "data": {
      "text/plain": [
       "0.8"
      ]
     },
     "execution_count": 231,
     "metadata": {},
     "output_type": "execute_result"
    }
   ],
   "source": [
    "# Check accuracy\n",
    "accuracy_score(y_test, predictions)"
   ]
  },
  {
   "cell_type": "markdown",
   "metadata": {},
   "source": [
    "## IV. Compare with Scikit-learn's Gaussian Function"
   ]
  },
  {
   "cell_type": "code",
   "execution_count": 233,
   "metadata": {},
   "outputs": [],
   "source": [
    "model = GaussianNB()"
   ]
  },
  {
   "cell_type": "code",
   "execution_count": 235,
   "metadata": {},
   "outputs": [
    {
     "data": {
      "text/plain": [
       "GaussianNB(priors=None, var_smoothing=1e-09)"
      ]
     },
     "execution_count": 235,
     "metadata": {},
     "output_type": "execute_result"
    }
   ],
   "source": [
    "model.fit(X_train,y_train)"
   ]
  },
  {
   "cell_type": "code",
   "execution_count": 236,
   "metadata": {},
   "outputs": [],
   "source": [
    "predictions = model.predict(X_test)"
   ]
  },
  {
   "cell_type": "code",
   "execution_count": 237,
   "metadata": {},
   "outputs": [
    {
     "data": {
      "text/plain": [
       "0.8"
      ]
     },
     "execution_count": 237,
     "metadata": {},
     "output_type": "execute_result"
    }
   ],
   "source": [
    "accuracy_score(y_test, predictions)"
   ]
  }
 ],
 "metadata": {
  "kernelspec": {
   "display_name": "Python 3",
   "language": "python",
   "name": "python3"
  },
  "language_info": {
   "codemirror_mode": {
    "name": "ipython",
    "version": 3
   },
   "file_extension": ".py",
   "mimetype": "text/x-python",
   "name": "python",
   "nbconvert_exporter": "python",
   "pygments_lexer": "ipython3",
   "version": "3.7.1"
  }
 },
 "nbformat": 4,
 "nbformat_minor": 2
}
