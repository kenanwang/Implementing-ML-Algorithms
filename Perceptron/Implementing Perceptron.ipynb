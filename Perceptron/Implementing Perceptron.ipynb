{
 "cells": [
  {
   "cell_type": "markdown",
   "metadata": {},
   "source": [
    "# Implement Perceptron"
   ]
  },
  {
   "cell_type": "markdown",
   "metadata": {},
   "source": [
    "Roughly following https://machinelearningmastery.com/implement-perceptron-algorithm-scratch-python/\n",
    "\n",
    "Although I'm using a matrix formulation of this algorithm."
   ]
  },
  {
   "cell_type": "code",
   "execution_count": 1,
   "metadata": {},
   "outputs": [],
   "source": [
    "# Importing libraries\n",
    "import numpy as np"
   ]
  },
  {
   "cell_type": "code",
   "execution_count": 53,
   "metadata": {},
   "outputs": [],
   "source": [
    "# Making a prediction from a row given some weights\n",
    "def predict(X, weights):\n",
    "    return np.dot(X, weights)"
   ]
  },
  {
   "cell_type": "code",
   "execution_count": 63,
   "metadata": {},
   "outputs": [],
   "source": [
    "def transfer(activation):\n",
    "    return np.asarray([1.0 if value >=0 else 0.0 for value in activation])"
   ]
  },
  {
   "cell_type": "code",
   "execution_count": 78,
   "metadata": {},
   "outputs": [],
   "source": [
    "# Import a sample dataset with sample weights to test our function\n",
    "dataset = [[2.7810836,2.550537003,0],\n",
    "\t[1.465489372,2.362125076,0],\n",
    "\t[3.396561688,4.400293529,0],\n",
    "\t[1.38807019,1.850220317,0],\n",
    "\t[3.06407232,3.005305973,0],\n",
    "\t[7.627531214,2.759262235,1],\n",
    "\t[5.332441248,2.088626775,1],\n",
    "\t[6.922596716,1.77106367,1],\n",
    "\t[8.675418651,-0.242068655,1],\n",
    "\t[7.673756466,3.508563011,1]]\n",
    "weights = [-0.1, 0.20653640140000007, -0.23418117710000003]"
   ]
  },
  {
   "cell_type": "code",
   "execution_count": 79,
   "metadata": {},
   "outputs": [],
   "source": [
    "# my predict function expects the first value of each input to be one\n",
    "dataset = [[1]+row for row in dataset]"
   ]
  },
  {
   "cell_type": "code",
   "execution_count": 80,
   "metadata": {},
   "outputs": [
    {
     "data": {
      "text/plain": [
       "[[1, 2.7810836, 2.550537003],\n",
       " [1, 1.465489372, 2.362125076],\n",
       " [1, 3.396561688, 4.400293529]]"
      ]
     },
     "execution_count": 80,
     "metadata": {},
     "output_type": "execute_result"
    }
   ],
   "source": [
    "X = [row[0:-1] for row in dataset]\n",
    "y = [row[-1] for row in dataset]\n",
    "X[:3]"
   ]
  },
  {
   "cell_type": "code",
   "execution_count": 85,
   "metadata": {
    "scrolled": true
   },
   "outputs": [
    {
     "name": "stdout",
     "output_type": "stream",
     "text": [
      "Expected=0, Predicted=0.0\n",
      "Expected=0, Predicted=0.0\n",
      "Expected=0, Predicted=0.0\n",
      "Expected=0, Predicted=0.0\n",
      "Expected=0, Predicted=0.0\n",
      "Expected=1, Predicted=1.0\n",
      "Expected=1, Predicted=1.0\n",
      "Expected=1, Predicted=1.0\n",
      "Expected=1, Predicted=1.0\n",
      "Expected=1, Predicted=1.0\n"
     ]
    }
   ],
   "source": [
    "predictions = transfer(predict(X, weights))\n",
    "for i in range(len(y)):\n",
    "    print(f'Expected={y[i]}, Predicted={predictions[i]}')"
   ]
  },
  {
   "cell_type": "code",
   "execution_count": 126,
   "metadata": {},
   "outputs": [],
   "source": [
    "def train_weights(train, l_rate, n_epoch):\n",
    "    X = np.asarray([row[0:-1] for row in dataset])\n",
    "    y = np.asarray([row[-1] for row in dataset])\n",
    "    weights = [0]*len(X[0])\n",
    "    for epoch in range(n_epoch):\n",
    "        predictions = transfer(predict(X,weights))\n",
    "        errors = y - predictions\n",
    "        sum_error = (errors**2).sum()\n",
    "        delta_weights = l_rate*np.dot(X.T, errors)\n",
    "        weights += delta_weights\n",
    "        #print(f'epoch={epoch}, l_rate={l_rate}, sum_error={sum_error:.3f}')\n",
    "    return weights"
   ]
  },
  {
   "cell_type": "code",
   "execution_count": 88,
   "metadata": {},
   "outputs": [
    {
     "name": "stdout",
     "output_type": "stream",
     "text": [
      "epoch=0, l_rate=0.1, sum_error=5.000\n",
      "epoch=1, l_rate=0.1, sum_error=5.000\n",
      "epoch=2, l_rate=0.1, sum_error=5.000\n",
      "epoch=3, l_rate=0.1, sum_error=0.000\n",
      "epoch=4, l_rate=0.1, sum_error=0.000\n",
      "[-0.5         1.204119   -1.84515168]\n"
     ]
    }
   ],
   "source": [
    "l_rate = 0.1\n",
    "n_epoch = 5\n",
    "weights = train_weights(dataset, l_rate, n_epoch)\n",
    "print(weights)"
   ]
  },
  {
   "cell_type": "code",
   "execution_count": 124,
   "metadata": {},
   "outputs": [],
   "source": [
    "def perceptron(train, test, l_rate, n_epoch):\n",
    "    weights = train_weights(train, l_rate, n_epoch)\n",
    "    X_test = np.asarray([row[0:-1] for row in test])\n",
    "    predictions = transfer(predict(X_test, weights))\n",
    "    return predictions"
   ]
  },
  {
   "cell_type": "markdown",
   "metadata": {},
   "source": [
    "## Testing against Sonar Dataset"
   ]
  },
  {
   "cell_type": "code",
   "execution_count": 96,
   "metadata": {},
   "outputs": [],
   "source": [
    "# Importing Libraries\n",
    "from csv import reader\n",
    "from random import seed\n",
    "from random import randrange"
   ]
  },
  {
   "cell_type": "code",
   "execution_count": 115,
   "metadata": {},
   "outputs": [],
   "source": [
    "dataset = []\n",
    "with open('sonar.all-data', 'r') as file:\n",
    "    csv_reader = reader(file)\n",
    "    for row in csv_reader:\n",
    "        if not row:\n",
    "            continue\n",
    "        for i in range(len(row)-1):\n",
    "            row[i] = float(row[i])\n",
    "        dataset.append(row)"
   ]
  },
  {
   "cell_type": "code",
   "execution_count": 121,
   "metadata": {},
   "outputs": [],
   "source": [
    "for row in dataset:\n",
    "    y_premap = [row[-1] for row in dataset]\n",
    "unique_y = set(y_premap)\n",
    "mapping_y = dict()\n",
    "for i, value in enumerate(unique_y):\n",
    "    mapping_y[value] = i\n",
    "for row in dataset: \n",
    "    row[-1] = mapping_y[row[-1]]"
   ]
  },
  {
   "cell_type": "code",
   "execution_count": 99,
   "metadata": {},
   "outputs": [],
   "source": [
    "def evaluate_algorithm(dataset, algorithm, n_folds, *args):\n",
    "    folds = cross_validation_split(dataset, n_folds)\n",
    "    scores = []\n",
    "    for validation_fold in folds:\n",
    "        train_set = [row for row in dataset if not(row in validation_fold)]\n",
    "        predicted = algorithm(train_set, validation_fold, *args)\n",
    "        actual = [row[-1] for row in validation_fold]\n",
    "        accuracy = accuracy_metric(actual, predicted)\n",
    "        scores.append(accuracy)\n",
    "    return scores"
   ]
  },
  {
   "cell_type": "code",
   "execution_count": 100,
   "metadata": {},
   "outputs": [],
   "source": [
    "def cross_validation_split(dataset, n_folds):\n",
    "    dataset_folds = []\n",
    "    dataset_copy = dataset.copy()\n",
    "    fold_size = int(len(dataset_copy)/n_folds)\n",
    "    for _ in range(n_folds):\n",
    "        fold = []\n",
    "        while len(fold) < fold_size:\n",
    "            rand_index = randrange(len(dataset_copy))\n",
    "            fold.append(dataset_copy.pop(rand_index))\n",
    "        dataset_folds.append(fold)\n",
    "    return dataset_folds"
   ]
  },
  {
   "cell_type": "code",
   "execution_count": 101,
   "metadata": {},
   "outputs": [],
   "source": [
    "def accuracy_metric(actual, predicted):\n",
    "    correct = 0\n",
    "    for i in range(len(actual)):\n",
    "        if actual[i] == predicted[i]:\n",
    "            correct+=1\n",
    "    return correct / float(len(actual)) * 100.0"
   ]
  },
  {
   "cell_type": "code",
   "execution_count": 135,
   "metadata": {
    "scrolled": false
   },
   "outputs": [
    {
     "name": "stdout",
     "output_type": "stream",
     "text": [
      "Scores: [78.26086956521739, 82.6086956521739, 72.46376811594203]\n",
      "Mean Accuracy: 77.78\n"
     ]
    }
   ],
   "source": [
    "seed(123)\n",
    "n_folds = 3\n",
    "l_rate = 0.01\n",
    "n_epoch = 500\n",
    "scores = evaluate_algorithm(dataset, perceptron, n_folds, l_rate, n_epoch)\n",
    "print(f'Scores: {scores}')\n",
    "print(f'Mean Accuracy: {sum(scores)/float(len(scores)):.2f}')"
   ]
  },
  {
   "cell_type": "markdown",
   "metadata": {},
   "source": [
    "## Testing various parameters"
   ]
  },
  {
   "cell_type": "code",
   "execution_count": 146,
   "metadata": {},
   "outputs": [],
   "source": [
    "from matplotlib import pyplot as plt\n",
    "%matplotlib inline"
   ]
  },
  {
   "cell_type": "code",
   "execution_count": 143,
   "metadata": {
    "scrolled": false
   },
   "outputs": [
    {
     "name": "stdout",
     "output_type": "stream",
     "text": [
      "0.1: 77.78%\n",
      "0.01: 77.78%\n",
      "0.001: 77.78%\n"
     ]
    }
   ],
   "source": [
    "# using cross validation (with 3 folds) to test different learning rates\n",
    "l_rates = [0.1, 0.01, 0.001]\n",
    "mean_accuracies = {}\n",
    "for l_r in l_rates:\n",
    "    seed(123)\n",
    "    scores = evaluate_algorithm(dataset, perceptron, n_folds, l_r, n_epoch)\n",
    "    mean_accuracies[l_r] = sum(scores)/float(len(scores))\n",
    "for l_r, ma in mean_accuracies.items():\n",
    "    print(f'{l_r}: {ma:.2f}%')"
   ]
  },
  {
   "cell_type": "code",
   "execution_count": 152,
   "metadata": {},
   "outputs": [
    {
     "name": "stdout",
     "output_type": "stream",
     "text": [
      "1: 53.62%\n",
      "5: 46.38%\n",
      "10: 53.62%\n",
      "50: 59.90%\n",
      "100: 67.15%\n",
      "500: 77.78%\n",
      "1000: 80.68%\n"
     ]
    }
   ],
   "source": [
    "# using cross validation (with 3 folds) to test different n_epochs\n",
    "n_epochs = [1, 5, 10, 50, 100, 500, 1000]\n",
    "mean_accuracies = {}\n",
    "for n_e in n_epochs:\n",
    "    seed(123)\n",
    "    scores = evaluate_algorithm(dataset, perceptron, n_folds, l_rate, n_e)\n",
    "    mean_accuracies[n_e] = sum(scores)/float(len(scores))\n",
    "for n_e, ma in mean_accuracies.items():\n",
    "    print(f'{n_e}: {ma:.2f}%')"
   ]
  },
  {
   "cell_type": "code",
   "execution_count": 153,
   "metadata": {
    "scrolled": false
   },
   "outputs": [
    {
     "data": {
      "image/png": "[encoded data removed]",
      "text/plain": [
       "<Figure size 432x288 with 1 Axes>"
      ]
     },
     "metadata": {
      "needs_background": "light"
     },
     "output_type": "display_data"
    }
   ],
   "source": [
    "x = [item[0] for item in mean_accuracies.items()]\n",
    "y = [item[1] for item in mean_accuracies.items()]\n",
    "plt.figure()\n",
    "plt.plot(x, y)\n",
    "plt.xlabel('k value')\n",
    "plt.ylabel('mean accuracy (%)')\n",
    "plt.axis([min(x), max(x), 0, 100])\n",
    "plt.title('n_epoch vs accuracy')\n",
    "plt.show()"
   ]
  },
  {
   "cell_type": "markdown",
   "metadata": {},
   "source": [
    "Note: 53% is equivalent to random guessing"
   ]
  }
 ],
 "metadata": {
  "kernelspec": {
   "display_name": "Python 3",
   "language": "python",
   "name": "python3"
  },
  "language_info": {
   "codemirror_mode": {
    "name": "ipython",
    "version": 3
   },
   "file_extension": ".py",
   "mimetype": "text/x-python",
   "name": "python",
   "nbconvert_exporter": "python",
   "pygments_lexer": "ipython3",
   "version": "3.7.1"
  }
 },
 "nbformat": 4,
 "nbformat_minor": 2
}
