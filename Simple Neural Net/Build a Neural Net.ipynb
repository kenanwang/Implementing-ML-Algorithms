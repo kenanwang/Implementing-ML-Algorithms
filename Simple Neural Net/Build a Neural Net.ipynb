{
 "cells": [
  {
   "cell_type": "markdown",
   "metadata": {},
   "source": [
    "This is an implementation of a simple neural net on toy data using only numpy for linear algebra. There is one hidden layer of neurons and thus two layers of synapses. It uses backpropogation to train the synapse weights. Thanks to Siraj Raval who showed this simple implementation on [YouTube](https://www.youtube.com/watch?v=h3l4qz76JhQ)."
   ]
  },
  {
   "cell_type": "code",
   "execution_count": 1,
   "metadata": {},
   "outputs": [],
   "source": [
    "import numpy as np"
   ]
  },
  {
   "cell_type": "code",
   "execution_count": 3,
   "metadata": {},
   "outputs": [],
   "source": [
    "#sigmoid function\n",
    "def nonlim(x, deriv=False):\n",
    "    if deriv == True:\n",
    "        return x*(1-x)\n",
    "    return 1/(1+np.exp(-x))"
   ]
  },
  {
   "cell_type": "code",
   "execution_count": 4,
   "metadata": {},
   "outputs": [],
   "source": [
    "#sample input data\n",
    "X = np.array([[0,0,1],\n",
    "             [0,1,1],\n",
    "             [1,0,1],\n",
    "             [1,1,1]])\n",
    "\n",
    "#sample output data\n",
    "y = np.array([[0],\n",
    "              [1],\n",
    "              [1],\n",
    "              [0]])"
   ]
  },
  {
   "cell_type": "code",
   "execution_count": 14,
   "metadata": {},
   "outputs": [],
   "source": [
    "#create synapses\n",
    "def create_synapses(len_X_t, len_y_t, num_synapses=4, rand_seed=1):\n",
    "    np.random.seed(rand_seed)\n",
    "    syn0 = 2*np.random.random((len_X_t, num_synapses))- 1\n",
    "    syn1 = 2*np.random.random((num_synapses, len_y_t))- 1\n",
    "    return syn0, syn1"
   ]
  },
  {
   "cell_type": "code",
   "execution_count": 11,
   "metadata": {},
   "outputs": [],
   "source": [
    "def predict_y(X, syn0, syn1, return_l1=False):\n",
    "    layer_0 = X\n",
    "    layer_1 = nonlim(np.dot(layer_0, syn0))\n",
    "    layer_2 = nonlim(np.dot(layer_1, syn1))\n",
    "    if return_l1==False:\n",
    "        return layer_2\n",
    "    return layer_2, layer_1"
   ]
  },
  {
   "cell_type": "code",
   "execution_count": 21,
   "metadata": {},
   "outputs": [],
   "source": [
    "def gen_neural_net(X, y, num_synapses=4, rand_seed=1, num_steps=60000, freq_error_report=10000):\n",
    "    #generate initial synapse weights\n",
    "    len_X_t = len(X.T)\n",
    "    len_y_t = len(y.T)\n",
    "    syn0, syn1 = create_synapses(len_X_t, len_y_t, num_synapses=num_synapses, rand_seed=rand_seed)\n",
    "    #train synapses and record error weights\n",
    "    errors = []\n",
    "    for step in range(num_steps):\n",
    "        #make a prediction based on the current synapse weights and generate errors\n",
    "        l2, l1 = predict_y(X, syn0, syn1, return_l1=True)\n",
    "        l2_error = y - l2\n",
    "        errors.append(np.mean(np.abs(l2_error)))\n",
    "        if(step%freq_error_report) == 0:\n",
    "            print('Error:', errors[step])\n",
    "        #backpropogate\n",
    "        l2_delta = l2_error*nonlim(l2, deriv=True)\n",
    "        l1_error = l2_delta.dot(syn1.T)\n",
    "        l1_delta = l1_error*nonlim(l1, deriv=True)\n",
    "        #set new synapse weights\n",
    "        syn1 += l1.T.dot(l2_delta)\n",
    "        syn0 += X.T.dot(l1_delta)\n",
    "    return errors, syn0, syn1"
   ]
  },
  {
   "cell_type": "code",
   "execution_count": 22,
   "metadata": {},
   "outputs": [
    {
     "name": "stdout",
     "output_type": "stream",
     "text": [
      "Error: 0.49641003190272537\n",
      "Error: 0.008584525653247153\n",
      "Error: 0.005789459862507809\n",
      "Error: 0.004629176776769984\n",
      "Error: 0.003958765280273649\n",
      "Error: 0.003510122567861676\n"
     ]
    }
   ],
   "source": [
    "errors, syn0, syn1 = gen_neural_net(X, y)"
   ]
  },
  {
   "cell_type": "code",
   "execution_count": 23,
   "metadata": {},
   "outputs": [
    {
     "name": "stdout",
     "output_type": "stream",
     "text": [
      "[[0.0026057 ]\n",
      " [0.99672212]\n",
      " [0.99701713]\n",
      " [0.00386756]]\n"
     ]
    }
   ],
   "source": [
    "print(predict_y(X, syn0, syn1))"
   ]
  },
  {
   "cell_type": "code",
   "execution_count": 25,
   "metadata": {},
   "outputs": [
    {
     "data": {
      "text/plain": [
       "[<matplotlib.lines.Line2D at 0x11fd4f2e8>]"
      ]
     },
     "execution_count": 25,
     "metadata": {},
     "output_type": "execute_result"
    },
    {
     "data": {
      "image/png": "[encoded data removed]",
      "text/plain": [
       "<Figure size 432x288 with 1 Axes>"
      ]
     },
     "metadata": {
      "needs_background": "light"
     },
     "output_type": "display_data"
    }
   ],
   "source": [
    "from matplotlib import pyplot as plt\n",
    "%matplotlib inline\n",
    "\n",
    "plt.plot(errors)"
   ]
  }
 ],
 "metadata": {
  "kernelspec": {
   "display_name": "Python 3",
   "language": "python",
   "name": "python3"
  },
  "language_info": {
   "codemirror_mode": {
    "name": "ipython",
    "version": 3
   },
   "file_extension": ".py",
   "mimetype": "text/x-python",
   "name": "python",
   "nbconvert_exporter": "python",
   "pygments_lexer": "ipython3",
   "version": "3.7.1"
  }
 },
 "nbformat": 4,
 "nbformat_minor": 2
}
