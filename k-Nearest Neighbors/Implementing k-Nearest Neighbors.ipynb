{
 "cells": [
  {
   "cell_type": "markdown",
   "metadata": {},
   "source": [
    "# Implementing k-Nearest neighbors"
   ]
  },
  {
   "cell_type": "markdown",
   "metadata": {},
   "source": [
    "k-Nearest neighbors is a relatively simple algorithm that attempts to predict a target. It takes an instance of data and attempts to predict the target variable by looking at a set of Nearest neighbors (number of neighbors is equal to a variable that we set - k) to that instance. \n",
    "\n",
    "We will test this against the popular Iris Dataset\n",
    "\n",
    "This dataset is also sometimes used for simple recommendation engines by returning the neighbors for a particular instance.\n",
    "\n",
    "Thanks to machinelearningmastery.com for this walkthrough:\n",
    "https://machinelearningmastery.com/tutorial-to-implement-k-nearest-neighbors-in-python-from-scratch/"
   ]
  },
  {
   "cell_type": "markdown",
   "metadata": {},
   "source": [
    "## Import Libraries"
   ]
  },
  {
   "cell_type": "code",
   "execution_count": 1,
   "metadata": {},
   "outputs": [],
   "source": [
    "from csv import reader\n",
    "from math import sqrt\n",
    "from random import seed\n",
    "from random import randrange\n",
    "from copy import deepcopy"
   ]
  },
  {
   "cell_type": "code",
   "execution_count": 2,
   "metadata": {},
   "outputs": [],
   "source": [
    "from matplotlib import pyplot as plt"
   ]
  },
  {
   "cell_type": "markdown",
   "metadata": {},
   "source": [
    "## Create k-Nearest Neighbors prediction"
   ]
  },
  {
   "cell_type": "code",
   "execution_count": 3,
   "metadata": {},
   "outputs": [],
   "source": [
    "# assume that the last column is the target variable\n",
    "def euclidean_distance(row1, row2):\n",
    "    distance = 0.0\n",
    "    for i in range(len(row1)-1):\n",
    "        distance+=(row1[i] - row2[i])**2\n",
    "    return sqrt(distance)"
   ]
  },
  {
   "cell_type": "code",
   "execution_count": 4,
   "metadata": {},
   "outputs": [],
   "source": [
    "def get_k_neighbors(train, instance, k):\n",
    "    distances = []\n",
    "    for row in train:\n",
    "        dist = euclidean_distance(row, instance)\n",
    "        distances.append((row, dist))\n",
    "    distances.sort(key=lambda tup: tup[1])\n",
    "    neighbors = []\n",
    "    for i in range(k):\n",
    "        neighbors.append(distances[i][0])\n",
    "    return neighbors"
   ]
  },
  {
   "cell_type": "code",
   "execution_count": 5,
   "metadata": {},
   "outputs": [],
   "source": [
    "def predict_k_neighbors(train, instance, k):\n",
    "    neighbors = get_k_neighbors(train, instance, k)\n",
    "    output_values = [row[-1] for row in neighbors]\n",
    "    prediction = max(set(output_values), key=output_values.count)\n",
    "    return prediction"
   ]
  },
  {
   "cell_type": "code",
   "execution_count": 6,
   "metadata": {},
   "outputs": [],
   "source": [
    "def k_nearest_neighbors(train, to_predict, k):\n",
    "    predictions = []\n",
    "    col_mins = []\n",
    "    col_maxs = []\n",
    "    for i in range(len(train[0])-1):\n",
    "        values_in_col = [row[i] for row in train]\n",
    "        col_min = min(values_in_col)\n",
    "        col_max = max(values_in_col)\n",
    "        col_mins.append(col_min)\n",
    "        col_maxs.append(col_max)\n",
    "    train_norm = deepcopy(train)\n",
    "    for row in train_norm:\n",
    "        for i in range(len(row)-1):\n",
    "            row[i] = (row[i] - col_mins[i])/(col_maxs[i] - col_mins[i])\n",
    "    to_predict_norm = deepcopy(to_predict)\n",
    "    for row in to_predict_norm:\n",
    "        for i in range(len(row)-1):\n",
    "            row[i] = (row[i] - col_mins[i])/(col_maxs[i] - col_mins[i])\n",
    "        output = predict_k_neighbors(train_norm, row, k)\n",
    "        predictions.append(output)\n",
    "    return(predictions)"
   ]
  },
  {
   "cell_type": "markdown",
   "metadata": {},
   "source": [
    "## Test algorithm against Iris Dataset"
   ]
  },
  {
   "cell_type": "code",
   "execution_count": 7,
   "metadata": {},
   "outputs": [],
   "source": [
    "dataset = []\n",
    "with open('iris.csv', 'r') as file:\n",
    "    csv_reader = reader(file)\n",
    "    for row in csv_reader:\n",
    "        if not row:\n",
    "            continue\n",
    "        for i in range(len(row)-1):\n",
    "            row[i] = float(row[i])\n",
    "        dataset.append(row)"
   ]
  },
  {
   "cell_type": "code",
   "execution_count": 8,
   "metadata": {
    "scrolled": false
   },
   "outputs": [
    {
     "data": {
      "text/plain": [
       "[[5.1, 3.5, 1.4, 0.2, 'Iris-setosa'],\n",
       " [4.9, 3.0, 1.4, 0.2, 'Iris-setosa'],\n",
       " [4.7, 3.2, 1.3, 0.2, 'Iris-setosa'],\n",
       " [4.6, 3.1, 1.5, 0.2, 'Iris-setosa'],\n",
       " [5.0, 3.6, 1.4, 0.2, 'Iris-setosa']]"
      ]
     },
     "execution_count": 8,
     "metadata": {},
     "output_type": "execute_result"
    }
   ],
   "source": [
    "dataset[:5]"
   ]
  },
  {
   "cell_type": "code",
   "execution_count": 9,
   "metadata": {},
   "outputs": [],
   "source": [
    "def evaluate_algorithm(dataset, algorithm, n_folds, *args):\n",
    "    folds = cross_validation_split(dataset, n_folds)\n",
    "    scores = []\n",
    "    for validation_fold in folds:\n",
    "        train_set = [row for row in dataset if not(row in validation_fold)]\n",
    "        predicted = algorithm(train_set, validation_fold, *args)\n",
    "        actual = [row[-1] for row in validation_fold]\n",
    "        accuracy = accuracy_metric(actual, predicted)\n",
    "        scores.append(accuracy)\n",
    "    return scores"
   ]
  },
  {
   "cell_type": "code",
   "execution_count": 10,
   "metadata": {},
   "outputs": [],
   "source": [
    "def cross_validation_split(dataset, n_folds):\n",
    "    dataset_folds = []\n",
    "    dataset_copy = dataset.copy()\n",
    "    fold_size = int(len(dataset_copy)/n_folds)\n",
    "    for _ in range(n_folds):\n",
    "        fold = []\n",
    "        while len(fold) < fold_size:\n",
    "            rand_index = randrange(len(dataset_copy))\n",
    "            fold.append(dataset_copy.pop(rand_index))\n",
    "        dataset_folds.append(fold)\n",
    "    return dataset_folds"
   ]
  },
  {
   "cell_type": "code",
   "execution_count": 11,
   "metadata": {},
   "outputs": [],
   "source": [
    "def accuracy_metric(actual, predicted):\n",
    "    correct = 0\n",
    "    for i in range(len(actual)):\n",
    "        if actual[i] == predicted[i]:\n",
    "            correct+=1\n",
    "    return correct / float(len(actual)) * 100.0"
   ]
  },
  {
   "cell_type": "code",
   "execution_count": 12,
   "metadata": {
    "scrolled": true
   },
   "outputs": [
    {
     "name": "stdout",
     "output_type": "stream",
     "text": [
      "Scores: [96.66666666666667, 96.66666666666667, 90.0, 93.33333333333333, 100.0]\n",
      "Mean Accuracy: 95.33\n"
     ]
    }
   ],
   "source": [
    "seed(123)\n",
    "scores = evaluate_algorithm(dataset, k_nearest_neighbors, 5, 5)\n",
    "print(f'Scores: {scores}')\n",
    "print(f'Mean Accuracy: {sum(scores)/float(len(scores)):.2f}')"
   ]
  },
  {
   "cell_type": "markdown",
   "metadata": {},
   "source": [
    "## Test various k values"
   ]
  },
  {
   "cell_type": "code",
   "execution_count": 13,
   "metadata": {
    "scrolled": false
   },
   "outputs": [
    {
     "name": "stdout",
     "output_type": "stream",
     "text": [
      "1: 95.33%\n",
      "3: 94.67%\n",
      "5: 95.33%\n",
      "10: 95.33%\n",
      "15: 96.00%\n",
      "20: 96.00%\n",
      "25: 96.00%\n",
      "30: 94.00%\n",
      "35: 92.67%\n",
      "40: 90.67%\n",
      "45: 88.67%\n",
      "50: 90.00%\n",
      "55: 88.67%\n",
      "60: 88.67%\n",
      "65: 88.00%\n",
      "70: 78.00%\n",
      "75: 62.67%\n",
      "80: 57.33%\n",
      "85: 54.00%\n",
      "90: 53.33%\n",
      "95: 52.67%\n",
      "100: 52.67%\n"
     ]
    }
   ],
   "source": [
    "# using cross validation (with 5 folds) to test different k values\n",
    "k_values = [1,3]\n",
    "k_values.extend([5*i for i in range(1,21)])\n",
    "mean_accuracies = {}\n",
    "for k in k_values:\n",
    "    seed(123)\n",
    "    scores = evaluate_algorithm(dataset, k_nearest_neighbors, 5, k)\n",
    "    mean_accuracies[k] = sum(scores)/float(len(scores))\n",
    "for k, ma in mean_accuracies.items():\n",
    "    print(f'{k}: {ma:.2f}%')"
   ]
  },
  {
   "cell_type": "code",
   "execution_count": 14,
   "metadata": {
    "scrolled": true
   },
   "outputs": [
    {
     "data": {
      "image/png": "[encoded data removed]",
      "text/plain": [
       "<Figure size 432x288 with 1 Axes>"
      ]
     },
     "metadata": {
      "needs_background": "light"
     },
     "output_type": "display_data"
    }
   ],
   "source": [
    "x = [item[0] for item in mean_accuracies.items()]\n",
    "y = [item[1] for item in mean_accuracies.items()]\n",
    "plt.figure()\n",
    "plt.plot(x, y)\n",
    "plt.xlabel('k value')\n",
    "plt.ylabel('mean accuracy (%)')\n",
    "plt.axis([0, 100, 0, 100])\n",
    "plt.title('k values vs accuracy')\n",
    "plt.show()"
   ]
  }
 ],
 "metadata": {
  "kernelspec": {
   "display_name": "Python 3",
   "language": "python",
   "name": "python3"
  },
  "language_info": {
   "codemirror_mode": {
    "name": "ipython",
    "version": 3
   },
   "file_extension": ".py",
   "mimetype": "text/x-python",
   "name": "python",
   "nbconvert_exporter": "python",
   "pygments_lexer": "ipython3",
   "version": "3.7.1"
  }
 },
 "nbformat": 4,
 "nbformat_minor": 2
}
